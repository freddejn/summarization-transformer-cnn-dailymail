{
  "nbformat": 4,
  "nbformat_minor": 0,
  "metadata": {
    "colab": {
      "name": "preprocess.ipynb",
      "version": "0.3.2",
      "provenance": [],
      "private_outputs": true,
      "include_colab_link": true
    },
    "kernelspec": {
      "name": "python3",
      "display_name": "Python 3"
    },
    "accelerator": "GPU"
  },
  "cells": [
    {
      "cell_type": "markdown",
      "metadata": {
        "id": "view-in-github",
        "colab_type": "text"
      },
      "source": [
        "<a href=\"https://colab.research.google.com/github/freddejn/summarization-transformer-cnn-dailymail/blob/master/preprocess.ipynb\" target=\"_parent\"><img src=\"https://colab.research.google.com/assets/colab-badge.svg\" alt=\"Open In Colab\"/></a>"
      ]
    },
    {
      "cell_type": "markdown",
      "metadata": {
        "id": "e7row1esWmWG",
        "colab_type": "text"
      },
      "source": [
        "# Preprocess using  tensor2tensor\n",
        "\n",
        "This notebook preprocess data in the CNN/Dailymail dataset using the tensor2tensor library.\n",
        "* Data is stored in `DATA_DIR`\n",
        "* The problem is specifyed by `PROBLEM`\n",
        "* The TMP_DIR is used for temporary storage during preprocessing"
      ]
    },
    {
      "cell_type": "code",
      "metadata": {
        "id": "O_mlsFwuOexG",
        "colab_type": "code",
        "colab": {}
      },
      "source": [
        "from google.colab import auth\n",
        "auth.authenticate_user()\n",
        "!pip install -q -U tensor2tensor\n",
        "\n",
        "PROJECT_ID = 'transformer-233711'\n",
        "!gcloud config set project {PROJECT_ID}\n",
        "\n",
        "BUCKET = 'tensor2tensor-test-bucket'\n",
        "PROBLEM = 'summarize_cnn_dailymail32k'\n",
        "DATA_DIR = f'gs://{BUCKET}/data'\n",
        "TMP_DIR = 'tmp_dir'"
      ],
      "execution_count": 0,
      "outputs": []
    },
    {
      "cell_type": "code",
      "metadata": {
        "id": "t-51QbX2Q9E0",
        "colab_type": "code",
        "colab": {}
      },
      "source": [
        "!t2t-datagen \\\n",
        "    --data_dir=$DATA_DIR \\\n",
        "    --tmp_dir=$TMP_DIR \\\n",
        "    --problem=$PROBLEM \\"
      ],
      "execution_count": 0,
      "outputs": []
    }
  ]
}